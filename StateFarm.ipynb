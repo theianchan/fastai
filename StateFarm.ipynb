{
 "cells": [
  {
   "cell_type": "code",
   "execution_count": 1,
   "metadata": {
    "collapsed": false
   },
   "outputs": [
    {
     "name": "stderr",
     "output_type": "stream",
     "text": [
      "Using gpu device 0: Tesla K80 (CNMeM is disabled, cuDNN 5103)\n",
      "/home/ubuntu/anaconda2/lib/python2.7/site-packages/theano/sandbox/cuda/__init__.py:600: UserWarning: Your cuDNN version is more recent than the one Theano officially supports. If you see any problems, try updating Theano or downgrading cuDNN to version 5.\n",
      "  warnings.warn(warn)\n",
      "Using Theano backend.\n"
     ]
    }
   ],
   "source": [
    "%matplotlib inline\n",
    "from utils import *"
   ]
  },
  {
   "cell_type": "code",
   "execution_count": 2,
   "metadata": {
    "collapsed": true
   },
   "outputs": [],
   "source": [
    "wk_dir = os.getcwd()"
   ]
  },
  {
   "cell_type": "markdown",
   "metadata": {
    "heading_collapsed": true
   },
   "source": [
    "### Download competition data"
   ]
  },
  {
   "cell_type": "code",
   "execution_count": null,
   "metadata": {
    "collapsed": false,
    "hidden": true
   },
   "outputs": [],
   "source": [
    "%cd ../data/kg"
   ]
  },
  {
   "cell_type": "code",
   "execution_count": null,
   "metadata": {
    "collapsed": true,
    "hidden": true
   },
   "outputs": [],
   "source": [
    "%%bash\n",
    "kg config -c state-farm-distracted-driver-detection\n",
    "kg download\n",
    "mkdir statefarm\n",
    "mv *.zip statefarm/\n",
    "unzip -q statefarm/imgs.zip\n",
    "unzip -q statefarm/sample_submission.csv.zip\n",
    "unzip -q statefarm/driver_imgs_list.csv.zip"
   ]
  },
  {
   "cell_type": "code",
   "execution_count": null,
   "metadata": {
    "collapsed": false,
    "hidden": true,
    "scrolled": true
   },
   "outputs": [],
   "source": [
    "%cd statefarm\n",
    "data_dir = os.getcwd()"
   ]
  },
  {
   "cell_type": "code",
   "execution_count": null,
   "metadata": {
    "collapsed": false,
    "hidden": true
   },
   "outputs": [],
   "source": [
    "%%bash\n",
    "tree -d"
   ]
  },
  {
   "cell_type": "code",
   "execution_count": null,
   "metadata": {
    "collapsed": false,
    "hidden": true
   },
   "outputs": [],
   "source": [
    "%ls test | wc -l"
   ]
  },
  {
   "cell_type": "code",
   "execution_count": null,
   "metadata": {
    "collapsed": false,
    "hidden": true
   },
   "outputs": [],
   "source": [
    "%%bash\n",
    "mkdir test/unknown\n",
    "echo test/*.jpg | xargs mv -t test/unknown"
   ]
  },
  {
   "cell_type": "code",
   "execution_count": null,
   "metadata": {
    "collapsed": false,
    "hidden": true
   },
   "outputs": [],
   "source": [
    "%ls test/unknown | head -5"
   ]
  },
  {
   "cell_type": "code",
   "execution_count": null,
   "metadata": {
    "collapsed": false,
    "hidden": true
   },
   "outputs": [],
   "source": [
    "%%bash\n",
    "cd train\n",
    "for dir in *;\n",
    "do\n",
    "    echo -n $dir \"- \"\n",
    "    ls $dir | wc -l\n",
    "done\n",
    "cd ..\n",
    "# 2,000 - 2,400 images in each trn directory"
   ]
  },
  {
   "cell_type": "code",
   "execution_count": null,
   "metadata": {
    "collapsed": false,
    "hidden": true
   },
   "outputs": [],
   "source": [
    "%ls train/c0 | head -5"
   ]
  },
  {
   "cell_type": "code",
   "execution_count": null,
   "metadata": {
    "collapsed": false,
    "hidden": true
   },
   "outputs": [],
   "source": [
    "%cat sample_submission.csv | head -5"
   ]
  },
  {
   "cell_type": "markdown",
   "metadata": {
    "collapsed": true,
    "hidden": true
   },
   "source": [
    "Kaggle says what they want is a list of probabilities for each class, so the data can look like:\n",
    "\n",
    "```\n",
    "img,c0,c1,c2,c3,c4,c5,c6,c7,c8,c9\n",
    "img_0.jpg,1,0,0,0,0,...,0\n",
    "img_1.jpg,0.3,0.1,0.6,0,...,0\n",
    "```"
   ]
  },
  {
   "cell_type": "code",
   "execution_count": null,
   "metadata": {
    "collapsed": false,
    "hidden": true
   },
   "outputs": [],
   "source": [
    "%cat driver_imgs_list.csv | head -5"
   ]
  },
  {
   "cell_type": "markdown",
   "metadata": {
    "hidden": true
   },
   "source": [
    "Why do we need this data?"
   ]
  },
  {
   "cell_type": "markdown",
   "metadata": {
    "heading_collapsed": true
   },
   "source": [
    "### Create validation and sample sets"
   ]
  },
  {
   "cell_type": "code",
   "execution_count": null,
   "metadata": {
    "collapsed": false,
    "hidden": true
   },
   "outputs": [],
   "source": [
    "%%bash\n",
    "mkdir valid\n",
    "for i in {0..9};\n",
    "do \n",
    "    mkdir valid/c$i\n",
    "done\n",
    "mkdir models\n",
    "\n",
    "mkdir sample\n",
    "mkdir sample/train\n",
    "for i in {0..9};\n",
    "do\n",
    "    mkdir sample/train/c$i\n",
    "done\n",
    "mkdir sample/valid\n",
    "for i in {0..9};\n",
    "do\n",
    "    mkdir sample/valid/c$i\n",
    "done\n",
    "mkdir sample/test\n",
    "mkdir sample/test/unknown\n",
    "mkdir sample/models"
   ]
  },
  {
   "cell_type": "code",
   "execution_count": null,
   "metadata": {
    "collapsed": true,
    "hidden": true
   },
   "outputs": [],
   "source": [
    "from shutil import copyfile"
   ]
  },
  {
   "cell_type": "markdown",
   "metadata": {
    "hidden": true
   },
   "source": [
    "Copy files from `train/` to `sample/train/`"
   ]
  },
  {
   "cell_type": "code",
   "execution_count": null,
   "metadata": {
    "collapsed": false,
    "hidden": true,
    "scrolled": true
   },
   "outputs": [],
   "source": [
    "for i in range(10):\n",
    "    c = \"c\" + str(i) + \"/\"\n",
    "    %cd $data_dir/train/$c\n",
    "    g = glob(\"*.jpg\")\n",
    "    shuf = np.random.permutation(g)\n",
    "    for i in range(100):\n",
    "        copyfile(shuf[i], data_dir + \"/sample/train/\" + c + shuf[i])"
   ]
  },
  {
   "cell_type": "markdown",
   "metadata": {
    "hidden": true
   },
   "source": [
    "Copy files from `test/` to `sample/test/`"
   ]
  },
  {
   "cell_type": "code",
   "execution_count": null,
   "metadata": {
    "collapsed": false,
    "hidden": true
   },
   "outputs": [],
   "source": [
    "%cd $data_dir/test/unknown\n",
    "g = glob(\"*.jpg\")\n",
    "shuf = np.random.permutation(g)\n",
    "for i in range(4000):\n",
    "    copyfile(shuf[i], data_dir + \"/sample/test/unknown/\" + shuf[i])"
   ]
  },
  {
   "cell_type": "markdown",
   "metadata": {
    "hidden": true
   },
   "source": [
    "Create validation set:"
   ]
  },
  {
   "cell_type": "code",
   "execution_count": null,
   "metadata": {
    "collapsed": false,
    "hidden": true
   },
   "outputs": [],
   "source": [
    "for i in range(10):\n",
    "    c = \"c\" + str(i) + \"/\"\n",
    "    %cd $data_dir/train/$c\n",
    "    g = glob(\"*.jpg\")\n",
    "    shuf = np.random.permutation(g)\n",
    "    for i in range(400):\n",
    "        os.rename(shuf[i], data_dir + \"/valid/\" + c + shuf[i])"
   ]
  },
  {
   "cell_type": "markdown",
   "metadata": {
    "hidden": true
   },
   "source": [
    "Create validation set for sample:"
   ]
  },
  {
   "cell_type": "code",
   "execution_count": null,
   "metadata": {
    "collapsed": false,
    "hidden": true
   },
   "outputs": [],
   "source": [
    "for i in range(10):\n",
    "    c = \"c\" + str(i) + \"/\"\n",
    "    %cd $data_dir/sample/train/$c\n",
    "    g = glob(\"*.jpg\")\n",
    "    shuf = np.random.permutation(g)\n",
    "    for i in range(20):\n",
    "        os.rename(shuf[i], data_dir + \"/sample/valid/\" + c + shuf[i])"
   ]
  },
  {
   "cell_type": "markdown",
   "metadata": {
    "heading_collapsed": true
   },
   "source": [
    "### Grab our data/batches/classes/labels"
   ]
  },
  {
   "cell_type": "code",
   "execution_count": 3,
   "metadata": {
    "collapsed": false,
    "hidden": true,
    "scrolled": true
   },
   "outputs": [
    {
     "name": "stdout",
     "output_type": "stream",
     "text": [
      "/home/ubuntu/courses/deeplearning1/data/kg/statefarm/sample\n"
     ]
    }
   ],
   "source": [
    "data_dir = wk_dir + \"/../data/kg/statefarm/sample/\"\n",
    "# data_dir = wk_dir + \"/../data/kg/statefarm/\"\n",
    "%cd $data_dir"
   ]
  },
  {
   "cell_type": "code",
   "execution_count": 4,
   "metadata": {
    "collapsed": true,
    "hidden": true
   },
   "outputs": [],
   "source": [
    "trn_dir = data_dir + \"/train/\"\n",
    "val_dir = data_dir + \"/valid/\"\n",
    "test_dir = data_dir + \"/test/\"\n",
    "model_dir = data_dir + \"/models/\""
   ]
  },
  {
   "cell_type": "code",
   "execution_count": 5,
   "metadata": {
    "collapsed": true,
    "hidden": true
   },
   "outputs": [],
   "source": [
    "bsz = 8"
   ]
  },
  {
   "cell_type": "markdown",
   "metadata": {
    "hidden": true
   },
   "source": [
    "**Note:** We're probably sacrificing resolution here - we didn't check the original image size."
   ]
  },
  {
   "cell_type": "code",
   "execution_count": null,
   "metadata": {
    "collapsed": false,
    "hidden": true
   },
   "outputs": [],
   "source": [
    "%%time\n",
    "trn_data = get_data(trn_dir)\n",
    "val_data = get_data(val_dir)"
   ]
  },
  {
   "cell_type": "code",
   "execution_count": null,
   "metadata": {
    "collapsed": true,
    "hidden": true
   },
   "outputs": [],
   "source": [
    "save_array(model_dir + \"trn_data.bc\", trn_data)\n",
    "save_array(model_dir + \"val_data.bc\", val_data)"
   ]
  },
  {
   "cell_type": "code",
   "execution_count": 6,
   "metadata": {
    "collapsed": true,
    "hidden": true
   },
   "outputs": [],
   "source": [
    "trn_data = load_array(model_dir + \"trn_data.bc\")\n",
    "val_data = load_array(model_dir + \"val_data.bc\")"
   ]
  },
  {
   "cell_type": "code",
   "execution_count": 34,
   "metadata": {
    "collapsed": false,
    "hidden": true
   },
   "outputs": [
    {
     "name": "stdout",
     "output_type": "stream",
     "text": [
      "Found 800 images belonging to 10 classes.\n",
      "Found 200 images belonging to 10 classes.\n"
     ]
    }
   ],
   "source": [
    "trn_batches = get_batches(trn_dir, batch_size=bsz)\n",
    "val_batches = get_batches(val_dir, batch_size=bsz)\n",
    "\n",
    "trn_classes = trn_batches.classes\n",
    "val_classes = val_batches.classes\n",
    "\n",
    "trn_labels = onehot(trn_classes)\n",
    "val_labels = onehot(val_classes)"
   ]
  },
  {
   "cell_type": "code",
   "execution_count": 35,
   "metadata": {
    "collapsed": true,
    "hidden": true
   },
   "outputs": [],
   "source": [
    "indices = val_batches.class_indices"
   ]
  },
  {
   "cell_type": "markdown",
   "metadata": {
    "heading_collapsed": true
   },
   "source": [
    "### Use built-in VGG methods (16-33-43)"
   ]
  },
  {
   "cell_type": "code",
   "execution_count": 8,
   "metadata": {
    "collapsed": false,
    "hidden": true,
    "scrolled": true
   },
   "outputs": [
    {
     "name": "stdout",
     "output_type": "stream",
     "text": [
      "Epoch 1/3\n",
      "800/800 [==============================] - 25s - loss: 4.0672 - acc: 0.1650 - val_loss: 2.2237 - val_acc: 0.2750\n",
      "Epoch 2/3\n",
      "800/800 [==============================] - 25s - loss: 2.6890 - acc: 0.3325 - val_loss: 1.5019 - val_acc: 0.4950\n",
      "Epoch 3/3\n",
      "800/800 [==============================] - 25s - loss: 2.1711 - acc: 0.4312 - val_loss: 1.5910 - val_acc: 0.5000\n",
      "CPU times: user 1min 48s, sys: 20.5 s, total: 2min 8s\n",
      "Wall time: 1min 31s\n"
     ]
    }
   ],
   "source": [
    "%%time\n",
    "vgg = Vgg16()\n",
    "vgg.finetune(trn_batches)\n",
    "vgg.fit(trn_batches, val_batches, nb_epoch=3)"
   ]
  },
  {
   "cell_type": "code",
   "execution_count": 9,
   "metadata": {
    "collapsed": false,
    "hidden": true
   },
   "outputs": [
    {
     "name": "stdout",
     "output_type": "stream",
     "text": [
      "200/200 [==============================] - 5s     \n",
      "[[ 2  0  1  3  1  0  2  3  0  8]\n",
      " [ 0  3  0  3  0  5  2  3  1  3]\n",
      " [ 0  0 13  0  0  0  3  1  2  1]\n",
      " [ 0  0  0 15  1  0  3  1  0  0]\n",
      " [ 0  1  0  8  7  0  1  2  0  1]\n",
      " [ 0  0  0  2  1 13  2  1  0  1]\n",
      " [ 0  1  5  2  0  0  8  2  1  1]\n",
      " [ 0  0  0  0  0  0  1 18  0  1]\n",
      " [ 0  0  3  1  0  1  3  2  6  4]\n",
      " [ 0  0  1  2  0  1  0  0  1 15]]\n"
     ]
    },
    {
     "data": {
      "image/png": "[encoded data removed]",
      "text/plain": [
       "<matplotlib.figure.Figure at 0x7f1f1e423e10>"
      ]
     },
     "metadata": {},
     "output_type": "display_data"
    }
   ],
   "source": [
    "preds = vgg.model.predict_classes(val_data, batch_size=bsz)\n",
    "cm = confusion_matrix(val_classes, preds)\n",
    "plot_confusion_matrix(cm, indices)"
   ]
  },
  {
   "cell_type": "markdown",
   "metadata": {
    "hidden": true
   },
   "source": [
    "Accuracy is like 40-60%. But it's also sample data?"
   ]
  },
  {
   "cell_type": "markdown",
   "metadata": {
    "heading_collapsed": true
   },
   "source": [
    "### Functions for updating models"
   ]
  },
  {
   "cell_type": "code",
   "execution_count": 10,
   "metadata": {
    "collapsed": true,
    "hidden": true
   },
   "outputs": [],
   "source": [
    "def fit_model(model, trn_batches, val_batches, nb_epoch=1):\n",
    "    model.fit_generator(\n",
    "        trn_batches,\n",
    "        samples_per_epoch=trn_batches.N,\n",
    "        \n",
    "        nb_epoch=nb_epoch,\n",
    "        \n",
    "        validation_data=val_batches,\n",
    "        nb_val_samples=val_batches.N\n",
    "    )\n",
    "\n",
    "def fit_epochs(model, trn_batches, val_batches, nb_epoch, run):\n",
    "    for i in range(nb_epoch):\n",
    "        fit_model(model, trn_batches, val_batches, nb_epoch=1)\n",
    "        model.save_weights(model_dir + \"finetune{}{}.h5\".format(run, str(i)))"
   ]
  },
  {
   "cell_type": "markdown",
   "metadata": {
    "heading_collapsed": true
   },
   "source": [
    "### Retrain only last layer (15-33-42)"
   ]
  },
  {
   "cell_type": "code",
   "execution_count": 11,
   "metadata": {
    "collapsed": false,
    "hidden": true
   },
   "outputs": [
    {
     "name": "stdout",
     "output_type": "stream",
     "text": [
      "Epoch 1/1\n",
      "800/800 [==============================] - 25s - loss: 3.8869 - acc: 0.1575 - val_loss: 1.8967 - val_acc: 0.3800\n",
      "Epoch 1/1\n",
      "800/800 [==============================] - 25s - loss: 2.5606 - acc: 0.3375 - val_loss: 1.6770 - val_acc: 0.4550\n",
      "Epoch 1/1\n",
      "800/800 [==============================] - 25s - loss: 2.1603 - acc: 0.4288 - val_loss: 1.1677 - val_acc: 0.6300\n"
     ]
    }
   ],
   "source": [
    "vgg = Vgg16()\n",
    "model = vgg.model\n",
    "\n",
    "model.pop()\n",
    "\n",
    "for layer in model.layers:\n",
    "    layer.trainable = False\n",
    "\n",
    "opt = Adam(lr=0.001) \n",
    "\n",
    "model.add(\n",
    "    Dense(10, activation=\"softmax\")\n",
    ")\n",
    "model.compile(\n",
    "    optimizer=opt,\n",
    "    loss=\"categorical_crossentropy\",\n",
    "    metrics=[\"accuracy\"]\n",
    ")\n",
    "\n",
    "fit_epochs(model, trn_batches, val_batches, nb_epoch=3, run=\"lastlayer\")"
   ]
  },
  {
   "cell_type": "code",
   "execution_count": 12,
   "metadata": {
    "collapsed": false,
    "hidden": true
   },
   "outputs": [
    {
     "name": "stdout",
     "output_type": "stream",
     "text": [
      "200/200 [==============================] - 5s     \n",
      "[[ 9  1  0  1  4  0  2  1  0  2]\n",
      " [ 0 10  0  2  0  2  4  1  0  1]\n",
      " [ 0  0 14  0  0  1  2  1  2  0]\n",
      " [ 0  1  0 12  3  0  3  0  0  1]\n",
      " [ 0  0  0  3 16  1  0  0  0  0]\n",
      " [ 0  1  0  0  2 16  1  0  0  0]\n",
      " [ 0  3  3  1  0  2 11  0  0  0]\n",
      " [ 1  1  0  0  0  0  1 16  0  1]\n",
      " [ 0  1  3  0  0  1  6  0  9  0]\n",
      " [ 0  0  1  1  1  1  1  0  2 13]]\n"
     ]
    },
    {
     "data": {
      "image/png": "[encoded data removed]",
      "text/plain": [
       "<matplotlib.figure.Figure at 0x7f1f1e43c590>"
      ]
     },
     "metadata": {},
     "output_type": "display_data"
    }
   ],
   "source": [
    "preds = model.predict_classes(val_data, batch_size=bsz)\n",
    "cm = confusion_matrix(val_classes, preds)\n",
    "plot_confusion_matrix(cm, indices)"
   ]
  },
  {
   "cell_type": "markdown",
   "metadata": {
    "hidden": true
   },
   "source": [
    "Actually looks like it performs slightly better than VGG.finetune? It shouldn't though - it should perform the same as all the steps are the same."
   ]
  },
  {
   "cell_type": "markdown",
   "metadata": {
    "heading_collapsed": true
   },
   "source": [
    "### Retrain multiple layers (48-53-56)"
   ]
  },
  {
   "cell_type": "markdown",
   "metadata": {
    "hidden": true
   },
   "source": [
    "Don't skip the step of fine-tuning just the final layer first, since otherwise you'll have one layer with random weights, which will cause the other layers to quickly move a long way from their optimized imagenet weights.\n",
    "\n",
    "**What does this mean?**"
   ]
  },
  {
   "cell_type": "code",
   "execution_count": 16,
   "metadata": {
    "collapsed": false,
    "hidden": true
   },
   "outputs": [],
   "source": [
    "layers = model.layers\n",
    "first_dense_idx = [index for index, layer in enumerate(layers) if type(layer) is Dense][0]\n",
    "for layer in layers[first_dense_idx:]:\n",
    "    layer.trainable = True"
   ]
  },
  {
   "cell_type": "markdown",
   "metadata": {
    "hidden": true
   },
   "source": [
    "Looks like having a non-zero value in the model.summary params column means 'trainable'."
   ]
  },
  {
   "cell_type": "code",
   "execution_count": 17,
   "metadata": {
    "collapsed": true,
    "hidden": true
   },
   "outputs": [],
   "source": [
    "K.set_value(opt.lr, 0.01)"
   ]
  },
  {
   "cell_type": "code",
   "execution_count": 23,
   "metadata": {
    "collapsed": false,
    "hidden": true
   },
   "outputs": [
    {
     "name": "stdout",
     "output_type": "stream",
     "text": [
      "Epoch 1/1\n",
      "800/800 [==============================] - 25s - loss: 1.9424 - acc: 0.4838 - val_loss: 1.3870 - val_acc: 0.5950\n",
      "Epoch 1/1\n",
      "800/800 [==============================] - 25s - loss: 1.7947 - acc: 0.5363 - val_loss: 1.3524 - val_acc: 0.5600\n",
      "Epoch 1/1\n",
      "800/800 [==============================] - 25s - loss: 1.6032 - acc: 0.5650 - val_loss: 1.1882 - val_acc: 0.6150\n"
     ]
    }
   ],
   "source": [
    "fit_epochs(model, trn_batches, val_batches, nb_epoch=3, run=\"alldense\")"
   ]
  },
  {
   "cell_type": "code",
   "execution_count": 24,
   "metadata": {
    "collapsed": false,
    "hidden": true
   },
   "outputs": [
    {
     "name": "stdout",
     "output_type": "stream",
     "text": [
      "200/200 [==============================] - 5s     \n",
      "[[ 9  0  0  2  2  0  3  1  0  3]\n",
      " [ 0 10  0  2  0  1  5  0  0  2]\n",
      " [ 0  0 13  0  0  0  5  0  1  1]\n",
      " [ 0  0  0 16  2  0  2  0  0  0]\n",
      " [ 0  1  0  6 10  1  0  1  0  1]\n",
      " [ 0  1  0  1  1 16  1  0  0  0]\n",
      " [ 0  4  4  1  0  0 10  0  0  1]\n",
      " [ 0  0  0  0  0  0  1 17  0  2]\n",
      " [ 0  1  2  0  0  1  6  0  9  1]\n",
      " [ 1  0  0  4  0  0  1  0  1 13]]\n"
     ]
    },
    {
     "data": {
      "image/png": "[encoded data removed]",
      "text/plain": [
       "<matplotlib.figure.Figure at 0x7f1ec8c225d0>"
      ]
     },
     "metadata": {},
     "output_type": "display_data"
    }
   ],
   "source": [
    "preds = model.predict_classes(val_data, batch_size=bsz)\n",
    "cm = confusion_matrix(val_classes, preds)\n",
    "plot_confusion_matrix(cm, indices)"
   ]
  },
  {
   "cell_type": "markdown",
   "metadata": {
    "hidden": true
   },
   "source": [
    "Training accuracy has gone from 15-35-45 using just VGG.finetune/single Dense to 48-53-56, which is nice (but we're also doing more epochs)."
   ]
  },
  {
   "cell_type": "markdown",
   "metadata": {
    "hidden": true
   },
   "source": [
    "**Since we haven't changed our architecture, there's no need to re-compile the model - instead, we just set the learning rate.**\n",
    "\n",
    "Ok but the last few layers are still set to trainable though."
   ]
  },
  {
   "cell_type": "markdown",
   "metadata": {
    "heading_collapsed": true
   },
   "source": [
    "### What else can we do?"
   ]
  },
  {
   "cell_type": "markdown",
   "metadata": {
    "hidden": true
   },
   "source": [
    "1. Augment data\n",
    "2. Retrain Conv layers\n",
    "3. Add BatchNorm layers (how to do this with VGG? Insert?)\n",
    "4. Reduce Dropout values (again, how do you do this?)\n",
    "5. Ensemble model"
   ]
  },
  {
   "cell_type": "markdown",
   "metadata": {
    "heading_collapsed": true
   },
   "source": [
    "### Augment data (38-41-46-47-56-64-61)"
   ]
  },
  {
   "cell_type": "code",
   "execution_count": 26,
   "metadata": {
    "collapsed": true,
    "hidden": true
   },
   "outputs": [],
   "source": [
    "gen = image.ImageDataGenerator(rotation_range=8, width_shift_range=0.08, shear_range=0.3,\n",
    "                               height_shift_range=0.08, zoom_range=0.08)\n",
    "trn_batches = gen.flow(trn_data, trn_labels, batch_size=bsz)\n",
    "val_batches = gen.flow(val_data, val_labels, batch_size=bsz)"
   ]
  },
  {
   "cell_type": "code",
   "execution_count": 31,
   "metadata": {
    "collapsed": false,
    "hidden": true
   },
   "outputs": [
    {
     "name": "stdout",
     "output_type": "stream",
     "text": [
      "Epoch 1/1\n",
      "800/800 [==============================] - 25s - loss: 3.0449 - acc: 0.3850 - val_loss: 2.3104 - val_acc: 0.4200\n"
     ]
    }
   ],
   "source": [
    "K.set_value(opt.lr, 0.001)\n",
    "fit_epochs(model, trn_batches, val_batches, nb_epoch=1, run=\"augmentedlr001\")"
   ]
  },
  {
   "cell_type": "code",
   "execution_count": 32,
   "metadata": {
    "collapsed": false,
    "hidden": true
   },
   "outputs": [
    {
     "name": "stdout",
     "output_type": "stream",
     "text": [
      "Epoch 1/1\n",
      "800/800 [==============================] - 25s - loss: 2.7051 - acc: 0.4175 - val_loss: 2.0462 - val_acc: 0.4050\n",
      "Epoch 1/1\n",
      "800/800 [==============================] - 25s - loss: 2.3756 - acc: 0.4662 - val_loss: 1.6745 - val_acc: 0.5200\n",
      "Epoch 1/1\n",
      "800/800 [==============================] - 25s - loss: 2.3849 - acc: 0.4725 - val_loss: 1.6884 - val_acc: 0.5250\n"
     ]
    }
   ],
   "source": [
    "K.set_value(opt.lr, 0.0001)\n",
    "fit_epochs(model, trn_batches, val_batches, nb_epoch=3, run=\"augmentedlr0001\")"
   ]
  },
  {
   "cell_type": "markdown",
   "metadata": {
    "collapsed": true,
    "hidden": true
   },
   "source": [
    "Not too much improvement - is this because we're using new data? 38-41-46-47. Last time was 48-53-56 - let's try three more."
   ]
  },
  {
   "cell_type": "code",
   "execution_count": 37,
   "metadata": {
    "collapsed": false,
    "hidden": true
   },
   "outputs": [
    {
     "name": "stdout",
     "output_type": "stream",
     "text": [
      "Epoch 1/1\n",
      "800/800 [==============================] - 25s - loss: 1.7231 - acc: 0.5625 - val_loss: 1.2208 - val_acc: 0.6150\n",
      "Epoch 1/1\n",
      "800/800 [==============================] - 25s - loss: 1.4454 - acc: 0.6488 - val_loss: 1.3731 - val_acc: 0.6000\n",
      "Epoch 1/1\n",
      "800/800 [==============================] - 25s - loss: 1.4721 - acc: 0.6138 - val_loss: 0.9133 - val_acc: 0.6950\n"
     ]
    }
   ],
   "source": [
    "fit_epochs(model, trn_batches, val_batches, nb_epoch=3, run=\"augmentedlr0001\")"
   ]
  },
  {
   "cell_type": "markdown",
   "metadata": {
    "collapsed": true,
    "hidden": true
   },
   "source": [
    "Yes - we're getting in the 56-64-61 range."
   ]
  },
  {
   "cell_type": "markdown",
   "metadata": {
    "heading_collapsed": true
   },
   "source": [
    "### Retrain Conv layers (60-63-65-68-67-65)"
   ]
  },
  {
   "cell_type": "code",
   "execution_count": 38,
   "metadata": {
    "collapsed": true,
    "hidden": true
   },
   "outputs": [],
   "source": [
    "for layer in layers[12:]: \n",
    "    layer.trainable=True"
   ]
  },
  {
   "cell_type": "code",
   "execution_count": 39,
   "metadata": {
    "collapsed": false,
    "hidden": true
   },
   "outputs": [
    {
     "name": "stdout",
     "output_type": "stream",
     "text": [
      "Epoch 1/1\n",
      "800/800 [==============================] - 25s - loss: 1.4910 - acc: 0.6063 - val_loss: 1.0966 - val_acc: 0.6650\n",
      "Epoch 1/1\n",
      "800/800 [==============================] - 25s - loss: 1.4582 - acc: 0.6312 - val_loss: 1.0823 - val_acc: 0.6650\n",
      "Epoch 1/1\n",
      "800/800 [==============================] - 25s - loss: 1.3004 - acc: 0.6525 - val_loss: 1.0026 - val_acc: 0.7150\n"
     ]
    }
   ],
   "source": [
    "K.set_value(opt.lr, 0.001)\n",
    "fit_epochs(model, trn_batches, val_batches, nb_epoch=3, run=\"retrainedconv\")"
   ]
  },
  {
   "cell_type": "markdown",
   "metadata": {
    "hidden": true
   },
   "source": [
    "60-63-65! Nice! Let's keep going for a bit."
   ]
  },
  {
   "cell_type": "code",
   "execution_count": 40,
   "metadata": {
    "collapsed": false,
    "hidden": true
   },
   "outputs": [
    {
     "name": "stdout",
     "output_type": "stream",
     "text": [
      "Epoch 1/1\n",
      "800/800 [==============================] - 25s - loss: 1.1745 - acc: 0.6838 - val_loss: 0.9475 - val_acc: 0.7100\n",
      "Epoch 1/1\n",
      "800/800 [==============================] - 25s - loss: 1.2264 - acc: 0.6787 - val_loss: 0.9497 - val_acc: 0.6750\n",
      "Epoch 1/1\n",
      "800/800 [==============================] - 25s - loss: 1.2552 - acc: 0.6575 - val_loss: 0.9392 - val_acc: 0.7450\n"
     ]
    }
   ],
   "source": [
    "fit_epochs(model, trn_batches, val_batches, nb_epoch=3, run=\"retrainedconv\")"
   ]
  },
  {
   "cell_type": "markdown",
   "metadata": {},
   "source": [
    "### Let's take a break to see if we can submit predictions"
   ]
  },
  {
   "cell_type": "code",
   "execution_count": 104,
   "metadata": {
    "collapsed": false
   },
   "outputs": [
    {
     "name": "stdout",
     "output_type": "stream",
     "text": [
      "/home/ubuntu/courses/deeplearning1/data/kg/statefarm/sample\n"
     ]
    }
   ],
   "source": [
    "%cd $data_dir"
   ]
  },
  {
   "cell_type": "code",
   "execution_count": 110,
   "metadata": {
    "collapsed": true
   },
   "outputs": [],
   "source": [
    "test_dir = test_dir + \"/../../test/\"\n",
    "model_dir = model_dir + \"/../../models/\""
   ]
  },
  {
   "cell_type": "code",
   "execution_count": null,
   "metadata": {
    "collapsed": false
   },
   "outputs": [
    {
     "name": "stdout",
     "output_type": "stream",
     "text": [
      "Found 79726 images belonging to 1 classes.\n",
      "Found 79726 images belonging to 1 classes.\n"
     ]
    }
   ],
   "source": [
    "%%time\n",
    "test_batches = get_batches(test_dir, batch_size=bsz)\n",
    "filenames = test_batches.filenames\n",
    "\n",
    "test_data = get_data(test_dir)"
   ]
  },
  {
   "cell_type": "code",
   "execution_count": null,
   "metadata": {
    "collapsed": true
   },
   "outputs": [],
   "source": [
    "save_array(model_dir + \"test_data.bc\", test_data)"
   ]
  },
  {
   "cell_type": "code",
   "execution_count": null,
   "metadata": {
    "collapsed": true
   },
   "outputs": [],
   "source": [
    "test_data = load_array(model_dir + \"test_data.bc\")"
   ]
  },
  {
   "cell_type": "code",
   "execution_count": null,
   "metadata": {
    "collapsed": false
   },
   "outputs": [],
   "source": [
    "%%time\n",
    "preds = model.predict(test_data, batch_size=bsz)"
   ]
  },
  {
   "cell_type": "code",
   "execution_count": null,
   "metadata": {
    "collapsed": true
   },
   "outputs": [],
   "source": [
    "save_array(model_dir + \"preds.bc\", preds)"
   ]
  },
  {
   "cell_type": "code",
   "execution_count": null,
   "metadata": {
    "collapsed": true
   },
   "outputs": [],
   "source": [
    "preds = load_array(model_dir + \"preds.bc\")"
   ]
  },
  {
   "cell_type": "code",
   "execution_count": null,
   "metadata": {
    "collapsed": true
   },
   "outputs": [],
   "source": [
    "ids = np.array([f[8:] for f in filenames])\n",
    "ids = np.expand_dims(ids, 1)"
   ]
  },
  {
   "cell_type": "code",
   "execution_count": null,
   "metadata": {
    "collapsed": false
   },
   "outputs": [],
   "source": [
    "subm = np.concatenate([ids, preds], axis=1)"
   ]
  },
  {
   "cell_type": "markdown",
   "metadata": {},
   "source": [
    "Soooo\n",
    "1. Do the filenames even match up with preds?\n",
    "2. Are the columns even in order???"
   ]
  },
  {
   "cell_type": "code",
   "execution_count": null,
   "metadata": {
    "collapsed": false
   },
   "outputs": [],
   "source": [
    "subm.shape"
   ]
  },
  {
   "cell_type": "code",
   "execution_count": null,
   "metadata": {
    "collapsed": false
   },
   "outputs": [],
   "source": [
    "%cd $wk_dir\n",
    "submission_file_name = \"submission1.csv\"\n",
    "np.savetxt(\n",
    "    submission_file_name, \n",
    "    subm,\n",
    "    fmt=\"%s,%s,%s,%s,%s,%s,%s,%s,%s,%s,%s\",\n",
    "    header=\"img,c0,c1,c2,c3,c4,c5,c6,c7,c8,c9\", \n",
    "    comments=\"\"\n",
    ")"
   ]
  },
  {
   "cell_type": "code",
   "execution_count": 101,
   "metadata": {
    "collapsed": true
   },
   "outputs": [],
   "source": [
    "from IPython.display import FileLink"
   ]
  },
  {
   "cell_type": "code",
   "execution_count": null,
   "metadata": {
    "collapsed": false
   },
   "outputs": [],
   "source": [
    "%cd $wk_dir\n",
    "FileLink(submission_file_name)"
   ]
  },
  {
   "cell_type": "markdown",
   "metadata": {
    "heading_collapsed": true
   },
   "source": [
    "### Add BatchNorm layers"
   ]
  },
  {
   "cell_type": "code",
   "execution_count": null,
   "metadata": {
    "collapsed": true,
    "hidden": true
   },
   "outputs": [],
   "source": []
  },
  {
   "cell_type": "markdown",
   "metadata": {},
   "source": [
    "### Reduce Dropout values"
   ]
  },
  {
   "cell_type": "code",
   "execution_count": null,
   "metadata": {
    "collapsed": true
   },
   "outputs": [],
   "source": []
  },
  {
   "cell_type": "markdown",
   "metadata": {},
   "source": [
    "### Ensemble model"
   ]
  },
  {
   "cell_type": "code",
   "execution_count": null,
   "metadata": {
    "collapsed": true
   },
   "outputs": [],
   "source": []
  },
  {
   "cell_type": "code",
   "execution_count": null,
   "metadata": {
    "collapsed": true
   },
   "outputs": [],
   "source": []
  },
  {
   "cell_type": "code",
   "execution_count": null,
   "metadata": {
    "collapsed": true
   },
   "outputs": [],
   "source": []
  },
  {
   "cell_type": "code",
   "execution_count": null,
   "metadata": {
    "collapsed": true
   },
   "outputs": [],
   "source": []
  }
 ],
 "metadata": {
  "anaconda-cloud": {},
  "kernelspec": {
   "display_name": "Python [conda root]",
   "language": "python",
   "name": "conda-root-py"
  },
  "language_info": {
   "codemirror_mode": {
    "name": "ipython",
    "version": 2
   },
   "file_extension": ".py",
   "mimetype": "text/x-python",
   "name": "python",
   "nbconvert_exporter": "python",
   "pygments_lexer": "ipython2",
   "version": "2.7.12"
  }
 },
 "nbformat": 4,
 "nbformat_minor": 1
}
