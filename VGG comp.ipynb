{
 "cells": [
  {
   "cell_type": "code",
   "execution_count": 1,
   "metadata": {
    "collapsed": false
   },
   "outputs": [
    {
     "name": "stderr",
     "output_type": "stream",
     "text": [
      "Using gpu device 0: Tesla K80 (CNMeM is disabled, cuDNN 5103)\n",
      "/home/ubuntu/anaconda2/lib/python2.7/site-packages/theano/sandbox/cuda/__init__.py:600: UserWarning: Your cuDNN version is more recent than the one Theano officially supports. If you see any problems, try updating Theano or downgrading cuDNN to version 5.\n",
      "  warnings.warn(warn)\n",
      "Using Theano backend.\n"
     ]
    }
   ],
   "source": [
    "%matplotlib inline\n",
    "from utils import *"
   ]
  },
  {
   "cell_type": "code",
   "execution_count": 2,
   "metadata": {
    "collapsed": false
   },
   "outputs": [
    {
     "name": "stdout",
     "output_type": "stream",
     "text": [
      "/home/ubuntu/courses/deeplearning1/data/kg/cd-redux/sample\n"
     ]
    }
   ],
   "source": [
    "wk_dir = os.getcwd()\n",
    "%cd ../data/kg/cd-redux/sample\n",
    "data_dir = os.getcwd()"
   ]
  },
  {
   "cell_type": "code",
   "execution_count": 3,
   "metadata": {
    "collapsed": true
   },
   "outputs": [],
   "source": [
    "trn_dir = data_dir + \"/train/\"\n",
    "val_dir = data_dir + \"/valid/\"\n",
    "test_dir = data_dir + \"/test/\"\n",
    "model_dir = data_dir + \"/models/\""
   ]
  },
  {
   "cell_type": "code",
   "execution_count": 4,
   "metadata": {
    "collapsed": true
   },
   "outputs": [],
   "source": [
    "bsz = 8"
   ]
  },
  {
   "cell_type": "code",
   "execution_count": 5,
   "metadata": {
    "collapsed": false
   },
   "outputs": [
    {
     "name": "stdout",
     "output_type": "stream",
     "text": [
      "Found 200 images belonging to 2 classes.\n",
      "Found 50 images belonging to 2 classes.\n",
      "Found 200 images belonging to 2 classes.\n",
      "Found 50 images belonging to 2 classes.\n"
     ]
    }
   ],
   "source": [
    "trn_data = get_data(trn_dir)\n",
    "val_data = get_data(val_dir)\n",
    "trn_batches = get_batches(trn_dir, batch_size=bsz)\n",
    "val_batches = get_batches(val_dir, batch_size=bsz)"
   ]
  },
  {
   "cell_type": "code",
   "execution_count": 9,
   "metadata": {
    "collapsed": true
   },
   "outputs": [],
   "source": [
    "val_classes = val_batches.classes"
   ]
  },
  {
   "cell_type": "code",
   "execution_count": 10,
   "metadata": {
    "collapsed": true
   },
   "outputs": [],
   "source": [
    "def fit_model(model, trn_batches, val_batches, nb_epoch=1):\n",
    "    model.fit_generator(\n",
    "        trn_batches,\n",
    "        samples_per_epoch=trn_batches.N,\n",
    "        \n",
    "        nb_epoch=nb_epoch,\n",
    "        \n",
    "        validation_data=val_batches,\n",
    "        nb_val_samples=val_batches.N\n",
    "    )\n",
    "\n",
    "def fit_epochs(model, trn_batches, val_batches, nb_epoch, run):\n",
    "    for i in range(nb_epoch):\n",
    "        fit_model(model, trn_batches, val_batches, nb_epoch=1)\n",
    "        model.save_weights(model_dir + \"finetune{}{}.h5\".format(run, str(i)))"
   ]
  },
  {
   "cell_type": "markdown",
   "metadata": {},
   "source": [
    "### RMSProp, 0.1"
   ]
  },
  {
   "cell_type": "code",
   "execution_count": 11,
   "metadata": {
    "collapsed": false
   },
   "outputs": [
    {
     "name": "stdout",
     "output_type": "stream",
     "text": [
      "Epoch 1/1\n",
      "200/200 [==============================] - 6s - loss: 9.1889 - acc: 0.4150 - val_loss: 7.7367 - val_acc: 0.5200\n"
     ]
    }
   ],
   "source": [
    "vgg = Vgg16()\n",
    "model = vgg.model\n",
    "\n",
    "model.pop()\n",
    "for layer in model.layers:\n",
    "    layer.trainable = False\n",
    "    \n",
    "model.add(\n",
    "    Dense(trn_batches.nb_class, activation=\"softmax\")\n",
    ")\n",
    "model.compile(\n",
    "    optimizer=RMSprop(lr=0.1),\n",
    "    loss=\"categorical_crossentropy\",\n",
    "    metrics=[\"accuracy\"]\n",
    ")\n",
    "\n",
    "fit_epochs(model, trn_batches, val_batches, nb_epoch=1, run=\"lastlayer\")"
   ]
  },
  {
   "cell_type": "code",
   "execution_count": 12,
   "metadata": {
    "collapsed": false
   },
   "outputs": [
    {
     "name": "stdout",
     "output_type": "stream",
     "text": [
      "Found 50 images belonging to 2 classes.\n",
      "50/50 [==============================] - 1s     \n",
      "[[26  0]\n",
      " [24  0]]\n"
     ]
    },
    {
     "data": {
      "image/png": "[encoded data removed]",
      "text/plain": [
       "<matplotlib.figure.Figure at 0x7f8868798610>"
      ]
     },
     "metadata": {},
     "output_type": "display_data"
    }
   ],
   "source": [
    "val_batches = get_batches(val_dir, shuffle=False, batch_size=1)\n",
    "preds = model.predict_classes(val_data, batch_size=bsz)\n",
    "cm = confusion_matrix(val_classes, preds)\n",
    "plot_confusion_matrix(cm, val_batches.class_indices)"
   ]
  },
  {
   "cell_type": "code",
   "execution_count": 13,
   "metadata": {
    "collapsed": false,
    "scrolled": true
   },
   "outputs": [
    {
     "name": "stdout",
     "output_type": "stream",
     "text": [
      "____________________________________________________________________________________________________\n",
      "Layer (type)                     Output Shape          Param #     Connected to                     \n",
      "====================================================================================================\n",
      "lambda_2 (Lambda)                (None, 3, 224, 224)   0           lambda_input_2[0][0]             \n",
      "____________________________________________________________________________________________________\n",
      "zeropadding2d_14 (ZeroPadding2D) (None, 3, 226, 226)   0           lambda_2[0][0]                   \n",
      "____________________________________________________________________________________________________\n",
      "convolution2d_14 (Convolution2D) (None, 64, 224, 224)  0           zeropadding2d_14[0][0]           \n",
      "____________________________________________________________________________________________________\n",
      "zeropadding2d_15 (ZeroPadding2D) (None, 64, 226, 226)  0           convolution2d_14[0][0]           \n",
      "____________________________________________________________________________________________________\n",
      "convolution2d_15 (Convolution2D) (None, 64, 224, 224)  0           zeropadding2d_15[0][0]           \n",
      "____________________________________________________________________________________________________\n",
      "maxpooling2d_6 (MaxPooling2D)    (None, 64, 112, 112)  0           convolution2d_15[0][0]           \n",
      "____________________________________________________________________________________________________\n",
      "zeropadding2d_16 (ZeroPadding2D) (None, 64, 114, 114)  0           maxpooling2d_6[0][0]             \n",
      "____________________________________________________________________________________________________\n",
      "convolution2d_16 (Convolution2D) (None, 128, 112, 112) 0           zeropadding2d_16[0][0]           \n",
      "____________________________________________________________________________________________________\n",
      "zeropadding2d_17 (ZeroPadding2D) (None, 128, 114, 114) 0           convolution2d_16[0][0]           \n",
      "____________________________________________________________________________________________________\n",
      "convolution2d_17 (Convolution2D) (None, 128, 112, 112) 0           zeropadding2d_17[0][0]           \n",
      "____________________________________________________________________________________________________\n",
      "maxpooling2d_7 (MaxPooling2D)    (None, 128, 56, 56)   0           convolution2d_17[0][0]           \n",
      "____________________________________________________________________________________________________\n",
      "zeropadding2d_18 (ZeroPadding2D) (None, 128, 58, 58)   0           maxpooling2d_7[0][0]             \n",
      "____________________________________________________________________________________________________\n",
      "convolution2d_18 (Convolution2D) (None, 256, 56, 56)   0           zeropadding2d_18[0][0]           \n",
      "____________________________________________________________________________________________________\n",
      "zeropadding2d_19 (ZeroPadding2D) (None, 256, 58, 58)   0           convolution2d_18[0][0]           \n",
      "____________________________________________________________________________________________________\n",
      "convolution2d_19 (Convolution2D) (None, 256, 56, 56)   0           zeropadding2d_19[0][0]           \n",
      "____________________________________________________________________________________________________\n",
      "zeropadding2d_20 (ZeroPadding2D) (None, 256, 58, 58)   0           convolution2d_19[0][0]           \n",
      "____________________________________________________________________________________________________\n",
      "convolution2d_20 (Convolution2D) (None, 256, 56, 56)   0           zeropadding2d_20[0][0]           \n",
      "____________________________________________________________________________________________________\n",
      "maxpooling2d_8 (MaxPooling2D)    (None, 256, 28, 28)   0           convolution2d_20[0][0]           \n",
      "____________________________________________________________________________________________________\n",
      "zeropadding2d_21 (ZeroPadding2D) (None, 256, 30, 30)   0           maxpooling2d_8[0][0]             \n",
      "____________________________________________________________________________________________________\n",
      "convolution2d_21 (Convolution2D) (None, 512, 28, 28)   0           zeropadding2d_21[0][0]           \n",
      "____________________________________________________________________________________________________\n",
      "zeropadding2d_22 (ZeroPadding2D) (None, 512, 30, 30)   0           convolution2d_21[0][0]           \n",
      "____________________________________________________________________________________________________\n",
      "convolution2d_22 (Convolution2D) (None, 512, 28, 28)   0           zeropadding2d_22[0][0]           \n",
      "____________________________________________________________________________________________________\n",
      "zeropadding2d_23 (ZeroPadding2D) (None, 512, 30, 30)   0           convolution2d_22[0][0]           \n",
      "____________________________________________________________________________________________________\n",
      "convolution2d_23 (Convolution2D) (None, 512, 28, 28)   0           zeropadding2d_23[0][0]           \n",
      "____________________________________________________________________________________________________\n",
      "maxpooling2d_9 (MaxPooling2D)    (None, 512, 14, 14)   0           convolution2d_23[0][0]           \n",
      "____________________________________________________________________________________________________\n",
      "zeropadding2d_24 (ZeroPadding2D) (None, 512, 16, 16)   0           maxpooling2d_9[0][0]             \n",
      "____________________________________________________________________________________________________\n",
      "convolution2d_24 (Convolution2D) (None, 512, 14, 14)   0           zeropadding2d_24[0][0]           \n",
      "____________________________________________________________________________________________________\n",
      "zeropadding2d_25 (ZeroPadding2D) (None, 512, 16, 16)   0           convolution2d_24[0][0]           \n",
      "____________________________________________________________________________________________________\n",
      "convolution2d_25 (Convolution2D) (None, 512, 14, 14)   0           zeropadding2d_25[0][0]           \n",
      "____________________________________________________________________________________________________\n",
      "zeropadding2d_26 (ZeroPadding2D) (None, 512, 16, 16)   0           convolution2d_25[0][0]           \n",
      "____________________________________________________________________________________________________\n",
      "convolution2d_26 (Convolution2D) (None, 512, 14, 14)   0           zeropadding2d_26[0][0]           \n",
      "____________________________________________________________________________________________________\n",
      "maxpooling2d_10 (MaxPooling2D)   (None, 512, 7, 7)     0           convolution2d_26[0][0]           \n",
      "____________________________________________________________________________________________________\n",
      "flatten_2 (Flatten)              (None, 25088)         0           maxpooling2d_10[0][0]            \n",
      "____________________________________________________________________________________________________\n",
      "dense_5 (Dense)                  (None, 4096)          0           flatten_2[0][0]                  \n",
      "____________________________________________________________________________________________________\n",
      "dropout_3 (Dropout)              (None, 4096)          0           dense_5[0][0]                    \n",
      "____________________________________________________________________________________________________\n",
      "dense_6 (Dense)                  (None, 4096)          0           dropout_3[0][0]                  \n",
      "____________________________________________________________________________________________________\n",
      "dropout_4 (Dropout)              (None, 4096)          0           dense_6[0][0]                    \n",
      "____________________________________________________________________________________________________\n",
      "dense_8 (Dense)                  (None, 2)             8194        dropout_4[0][0]                  \n",
      "====================================================================================================\n",
      "Total params: 8194\n",
      "____________________________________________________________________________________________________\n"
     ]
    }
   ],
   "source": [
    "model.summary()"
   ]
  },
  {
   "cell_type": "markdown",
   "metadata": {},
   "source": [
    "### RMSProp, 0.01"
   ]
  },
  {
   "cell_type": "code",
   "execution_count": 14,
   "metadata": {
    "collapsed": false
   },
   "outputs": [
    {
     "name": "stdout",
     "output_type": "stream",
     "text": [
      "Epoch 1/1\n",
      "200/200 [==============================] - 6s - loss: 1.6713 - acc: 0.8550 - val_loss: 0.8921 - val_acc: 0.9400\n"
     ]
    }
   ],
   "source": [
    "vgg = Vgg16()\n",
    "model = vgg.model\n",
    "\n",
    "model.pop()\n",
    "for layer in model.layers:\n",
    "    layer.trainable = False\n",
    "    \n",
    "model.add(\n",
    "    Dense(trn_batches.nb_class, activation=\"softmax\")\n",
    ")\n",
    "model.compile(\n",
    "    optimizer=RMSprop(lr=0.01),\n",
    "    loss=\"categorical_crossentropy\",\n",
    "    metrics=[\"accuracy\"]\n",
    ")\n",
    "\n",
    "fit_epochs(model, trn_batches, val_batches, nb_epoch=1, run=\"lastlayer\")"
   ]
  },
  {
   "cell_type": "code",
   "execution_count": 15,
   "metadata": {
    "collapsed": false
   },
   "outputs": [
    {
     "name": "stdout",
     "output_type": "stream",
     "text": [
      "Found 50 images belonging to 2 classes.\n",
      "50/50 [==============================] - 1s     \n",
      "[[23  3]\n",
      " [ 0 24]]\n"
     ]
    },
    {
     "data": {
      "image/png": "[encoded data removed]",
      "text/plain": [
       "<matplotlib.figure.Figure at 0x7f880d082050>"
      ]
     },
     "metadata": {},
     "output_type": "display_data"
    }
   ],
   "source": [
    "val_batches = get_batches(val_dir, shuffle=False, batch_size=1)\n",
    "preds = model.predict_classes(val_data, batch_size=bsz)\n",
    "cm = confusion_matrix(val_classes, preds)\n",
    "plot_confusion_matrix(cm, val_batches.class_indices)"
   ]
  },
  {
   "cell_type": "code",
   "execution_count": 16,
   "metadata": {
    "collapsed": false,
    "scrolled": true
   },
   "outputs": [
    {
     "name": "stdout",
     "output_type": "stream",
     "text": [
      "____________________________________________________________________________________________________\n",
      "Layer (type)                     Output Shape          Param #     Connected to                     \n",
      "====================================================================================================\n",
      "lambda_3 (Lambda)                (None, 3, 224, 224)   0           lambda_input_3[0][0]             \n",
      "____________________________________________________________________________________________________\n",
      "zeropadding2d_27 (ZeroPadding2D) (None, 3, 226, 226)   0           lambda_3[0][0]                   \n",
      "____________________________________________________________________________________________________\n",
      "convolution2d_27 (Convolution2D) (None, 64, 224, 224)  0           zeropadding2d_27[0][0]           \n",
      "____________________________________________________________________________________________________\n",
      "zeropadding2d_28 (ZeroPadding2D) (None, 64, 226, 226)  0           convolution2d_27[0][0]           \n",
      "____________________________________________________________________________________________________\n",
      "convolution2d_28 (Convolution2D) (None, 64, 224, 224)  0           zeropadding2d_28[0][0]           \n",
      "____________________________________________________________________________________________________\n",
      "maxpooling2d_11 (MaxPooling2D)   (None, 64, 112, 112)  0           convolution2d_28[0][0]           \n",
      "____________________________________________________________________________________________________\n",
      "zeropadding2d_29 (ZeroPadding2D) (None, 64, 114, 114)  0           maxpooling2d_11[0][0]            \n",
      "____________________________________________________________________________________________________\n",
      "convolution2d_29 (Convolution2D) (None, 128, 112, 112) 0           zeropadding2d_29[0][0]           \n",
      "____________________________________________________________________________________________________\n",
      "zeropadding2d_30 (ZeroPadding2D) (None, 128, 114, 114) 0           convolution2d_29[0][0]           \n",
      "____________________________________________________________________________________________________\n",
      "convolution2d_30 (Convolution2D) (None, 128, 112, 112) 0           zeropadding2d_30[0][0]           \n",
      "____________________________________________________________________________________________________\n",
      "maxpooling2d_12 (MaxPooling2D)   (None, 128, 56, 56)   0           convolution2d_30[0][0]           \n",
      "____________________________________________________________________________________________________\n",
      "zeropadding2d_31 (ZeroPadding2D) (None, 128, 58, 58)   0           maxpooling2d_12[0][0]            \n",
      "____________________________________________________________________________________________________\n",
      "convolution2d_31 (Convolution2D) (None, 256, 56, 56)   0           zeropadding2d_31[0][0]           \n",
      "____________________________________________________________________________________________________\n",
      "zeropadding2d_32 (ZeroPadding2D) (None, 256, 58, 58)   0           convolution2d_31[0][0]           \n",
      "____________________________________________________________________________________________________\n",
      "convolution2d_32 (Convolution2D) (None, 256, 56, 56)   0           zeropadding2d_32[0][0]           \n",
      "____________________________________________________________________________________________________\n",
      "zeropadding2d_33 (ZeroPadding2D) (None, 256, 58, 58)   0           convolution2d_32[0][0]           \n",
      "____________________________________________________________________________________________________\n",
      "convolution2d_33 (Convolution2D) (None, 256, 56, 56)   0           zeropadding2d_33[0][0]           \n",
      "____________________________________________________________________________________________________\n",
      "maxpooling2d_13 (MaxPooling2D)   (None, 256, 28, 28)   0           convolution2d_33[0][0]           \n",
      "____________________________________________________________________________________________________\n",
      "zeropadding2d_34 (ZeroPadding2D) (None, 256, 30, 30)   0           maxpooling2d_13[0][0]            \n",
      "____________________________________________________________________________________________________\n",
      "convolution2d_34 (Convolution2D) (None, 512, 28, 28)   0           zeropadding2d_34[0][0]           \n",
      "____________________________________________________________________________________________________\n",
      "zeropadding2d_35 (ZeroPadding2D) (None, 512, 30, 30)   0           convolution2d_34[0][0]           \n",
      "____________________________________________________________________________________________________\n",
      "convolution2d_35 (Convolution2D) (None, 512, 28, 28)   0           zeropadding2d_35[0][0]           \n",
      "____________________________________________________________________________________________________\n",
      "zeropadding2d_36 (ZeroPadding2D) (None, 512, 30, 30)   0           convolution2d_35[0][0]           \n",
      "____________________________________________________________________________________________________\n",
      "convolution2d_36 (Convolution2D) (None, 512, 28, 28)   0           zeropadding2d_36[0][0]           \n",
      "____________________________________________________________________________________________________\n",
      "maxpooling2d_14 (MaxPooling2D)   (None, 512, 14, 14)   0           convolution2d_36[0][0]           \n",
      "____________________________________________________________________________________________________\n",
      "zeropadding2d_37 (ZeroPadding2D) (None, 512, 16, 16)   0           maxpooling2d_14[0][0]            \n",
      "____________________________________________________________________________________________________\n",
      "convolution2d_37 (Convolution2D) (None, 512, 14, 14)   0           zeropadding2d_37[0][0]           \n",
      "____________________________________________________________________________________________________\n",
      "zeropadding2d_38 (ZeroPadding2D) (None, 512, 16, 16)   0           convolution2d_37[0][0]           \n",
      "____________________________________________________________________________________________________\n",
      "convolution2d_38 (Convolution2D) (None, 512, 14, 14)   0           zeropadding2d_38[0][0]           \n",
      "____________________________________________________________________________________________________\n",
      "zeropadding2d_39 (ZeroPadding2D) (None, 512, 16, 16)   0           convolution2d_38[0][0]           \n",
      "____________________________________________________________________________________________________\n",
      "convolution2d_39 (Convolution2D) (None, 512, 14, 14)   0           zeropadding2d_39[0][0]           \n",
      "____________________________________________________________________________________________________\n",
      "maxpooling2d_15 (MaxPooling2D)   (None, 512, 7, 7)     0           convolution2d_39[0][0]           \n",
      "____________________________________________________________________________________________________\n",
      "flatten_3 (Flatten)              (None, 25088)         0           maxpooling2d_15[0][0]            \n",
      "____________________________________________________________________________________________________\n",
      "dense_9 (Dense)                  (None, 4096)          0           flatten_3[0][0]                  \n",
      "____________________________________________________________________________________________________\n",
      "dropout_5 (Dropout)              (None, 4096)          0           dense_9[0][0]                    \n",
      "____________________________________________________________________________________________________\n",
      "dense_10 (Dense)                 (None, 4096)          0           dropout_5[0][0]                  \n",
      "____________________________________________________________________________________________________\n",
      "dropout_6 (Dropout)              (None, 4096)          0           dense_10[0][0]                   \n",
      "____________________________________________________________________________________________________\n",
      "dense_12 (Dense)                 (None, 2)             8194        dropout_6[0][0]                  \n",
      "====================================================================================================\n",
      "Total params: 8194\n",
      "____________________________________________________________________________________________________\n"
     ]
    }
   ],
   "source": [
    "model.summary()"
   ]
  },
  {
   "cell_type": "markdown",
   "metadata": {},
   "source": [
    "### RMSProp, 0.001"
   ]
  },
  {
   "cell_type": "code",
   "execution_count": 17,
   "metadata": {
    "collapsed": false
   },
   "outputs": [
    {
     "name": "stdout",
     "output_type": "stream",
     "text": [
      "Epoch 1/1\n",
      "200/200 [==============================] - 6s - loss: 0.5340 - acc: 0.8600 - val_loss: 0.0953 - val_acc: 0.9800\n"
     ]
    }
   ],
   "source": [
    "vgg = Vgg16()\n",
    "model = vgg.model\n",
    "\n",
    "model.pop()\n",
    "for layer in model.layers:\n",
    "    layer.trainable = False\n",
    "    \n",
    "model.add(\n",
    "    Dense(trn_batches.nb_class, activation=\"softmax\")\n",
    ")\n",
    "model.compile(\n",
    "    optimizer=RMSprop(lr=0.001),\n",
    "    loss=\"categorical_crossentropy\",\n",
    "    metrics=[\"accuracy\"]\n",
    ")\n",
    "\n",
    "fit_epochs(model, trn_batches, val_batches, nb_epoch=1, run=\"lastlayer\")"
   ]
  },
  {
   "cell_type": "code",
   "execution_count": 18,
   "metadata": {
    "collapsed": false
   },
   "outputs": [
    {
     "name": "stdout",
     "output_type": "stream",
     "text": [
      "Found 50 images belonging to 2 classes.\n",
      "50/50 [==============================] - 1s     \n",
      "[[25  1]\n",
      " [ 0 24]]\n"
     ]
    },
    {
     "data": {
      "image/png": "[encoded data removed]",
      "text/plain": [
       "<matplotlib.figure.Figure at 0x7f880e3def90>"
      ]
     },
     "metadata": {},
     "output_type": "display_data"
    }
   ],
   "source": [
    "val_batches = get_batches(val_dir, shuffle=False, batch_size=1)\n",
    "preds = model.predict_classes(val_data, batch_size=bsz)\n",
    "cm = confusion_matrix(val_classes, preds)\n",
    "plot_confusion_matrix(cm, val_batches.class_indices)"
   ]
  },
  {
   "cell_type": "code",
   "execution_count": 19,
   "metadata": {
    "collapsed": false,
    "scrolled": true
   },
   "outputs": [
    {
     "name": "stdout",
     "output_type": "stream",
     "text": [
      "____________________________________________________________________________________________________\n",
      "Layer (type)                     Output Shape          Param #     Connected to                     \n",
      "====================================================================================================\n",
      "lambda_4 (Lambda)                (None, 3, 224, 224)   0           lambda_input_4[0][0]             \n",
      "____________________________________________________________________________________________________\n",
      "zeropadding2d_40 (ZeroPadding2D) (None, 3, 226, 226)   0           lambda_4[0][0]                   \n",
      "____________________________________________________________________________________________________\n",
      "convolution2d_40 (Convolution2D) (None, 64, 224, 224)  0           zeropadding2d_40[0][0]           \n",
      "____________________________________________________________________________________________________\n",
      "zeropadding2d_41 (ZeroPadding2D) (None, 64, 226, 226)  0           convolution2d_40[0][0]           \n",
      "____________________________________________________________________________________________________\n",
      "convolution2d_41 (Convolution2D) (None, 64, 224, 224)  0           zeropadding2d_41[0][0]           \n",
      "____________________________________________________________________________________________________\n",
      "maxpooling2d_16 (MaxPooling2D)   (None, 64, 112, 112)  0           convolution2d_41[0][0]           \n",
      "____________________________________________________________________________________________________\n",
      "zeropadding2d_42 (ZeroPadding2D) (None, 64, 114, 114)  0           maxpooling2d_16[0][0]            \n",
      "____________________________________________________________________________________________________\n",
      "convolution2d_42 (Convolution2D) (None, 128, 112, 112) 0           zeropadding2d_42[0][0]           \n",
      "____________________________________________________________________________________________________\n",
      "zeropadding2d_43 (ZeroPadding2D) (None, 128, 114, 114) 0           convolution2d_42[0][0]           \n",
      "____________________________________________________________________________________________________\n",
      "convolution2d_43 (Convolution2D) (None, 128, 112, 112) 0           zeropadding2d_43[0][0]           \n",
      "____________________________________________________________________________________________________\n",
      "maxpooling2d_17 (MaxPooling2D)   (None, 128, 56, 56)   0           convolution2d_43[0][0]           \n",
      "____________________________________________________________________________________________________\n",
      "zeropadding2d_44 (ZeroPadding2D) (None, 128, 58, 58)   0           maxpooling2d_17[0][0]            \n",
      "____________________________________________________________________________________________________\n",
      "convolution2d_44 (Convolution2D) (None, 256, 56, 56)   0           zeropadding2d_44[0][0]           \n",
      "____________________________________________________________________________________________________\n",
      "zeropadding2d_45 (ZeroPadding2D) (None, 256, 58, 58)   0           convolution2d_44[0][0]           \n",
      "____________________________________________________________________________________________________\n",
      "convolution2d_45 (Convolution2D) (None, 256, 56, 56)   0           zeropadding2d_45[0][0]           \n",
      "____________________________________________________________________________________________________\n",
      "zeropadding2d_46 (ZeroPadding2D) (None, 256, 58, 58)   0           convolution2d_45[0][0]           \n",
      "____________________________________________________________________________________________________\n",
      "convolution2d_46 (Convolution2D) (None, 256, 56, 56)   0           zeropadding2d_46[0][0]           \n",
      "____________________________________________________________________________________________________\n",
      "maxpooling2d_18 (MaxPooling2D)   (None, 256, 28, 28)   0           convolution2d_46[0][0]           \n",
      "____________________________________________________________________________________________________\n",
      "zeropadding2d_47 (ZeroPadding2D) (None, 256, 30, 30)   0           maxpooling2d_18[0][0]            \n",
      "____________________________________________________________________________________________________\n",
      "convolution2d_47 (Convolution2D) (None, 512, 28, 28)   0           zeropadding2d_47[0][0]           \n",
      "____________________________________________________________________________________________________\n",
      "zeropadding2d_48 (ZeroPadding2D) (None, 512, 30, 30)   0           convolution2d_47[0][0]           \n",
      "____________________________________________________________________________________________________\n",
      "convolution2d_48 (Convolution2D) (None, 512, 28, 28)   0           zeropadding2d_48[0][0]           \n",
      "____________________________________________________________________________________________________\n",
      "zeropadding2d_49 (ZeroPadding2D) (None, 512, 30, 30)   0           convolution2d_48[0][0]           \n",
      "____________________________________________________________________________________________________\n",
      "convolution2d_49 (Convolution2D) (None, 512, 28, 28)   0           zeropadding2d_49[0][0]           \n",
      "____________________________________________________________________________________________________\n",
      "maxpooling2d_19 (MaxPooling2D)   (None, 512, 14, 14)   0           convolution2d_49[0][0]           \n",
      "____________________________________________________________________________________________________\n",
      "zeropadding2d_50 (ZeroPadding2D) (None, 512, 16, 16)   0           maxpooling2d_19[0][0]            \n",
      "____________________________________________________________________________________________________\n",
      "convolution2d_50 (Convolution2D) (None, 512, 14, 14)   0           zeropadding2d_50[0][0]           \n",
      "____________________________________________________________________________________________________\n",
      "zeropadding2d_51 (ZeroPadding2D) (None, 512, 16, 16)   0           convolution2d_50[0][0]           \n",
      "____________________________________________________________________________________________________\n",
      "convolution2d_51 (Convolution2D) (None, 512, 14, 14)   0           zeropadding2d_51[0][0]           \n",
      "____________________________________________________________________________________________________\n",
      "zeropadding2d_52 (ZeroPadding2D) (None, 512, 16, 16)   0           convolution2d_51[0][0]           \n",
      "____________________________________________________________________________________________________\n",
      "convolution2d_52 (Convolution2D) (None, 512, 14, 14)   0           zeropadding2d_52[0][0]           \n",
      "____________________________________________________________________________________________________\n",
      "maxpooling2d_20 (MaxPooling2D)   (None, 512, 7, 7)     0           convolution2d_52[0][0]           \n",
      "____________________________________________________________________________________________________\n",
      "flatten_4 (Flatten)              (None, 25088)         0           maxpooling2d_20[0][0]            \n",
      "____________________________________________________________________________________________________\n",
      "dense_13 (Dense)                 (None, 4096)          0           flatten_4[0][0]                  \n",
      "____________________________________________________________________________________________________\n",
      "dropout_7 (Dropout)              (None, 4096)          0           dense_13[0][0]                   \n",
      "____________________________________________________________________________________________________\n",
      "dense_14 (Dense)                 (None, 4096)          0           dropout_7[0][0]                  \n",
      "____________________________________________________________________________________________________\n",
      "dropout_8 (Dropout)              (None, 4096)          0           dense_14[0][0]                   \n",
      "____________________________________________________________________________________________________\n",
      "dense_16 (Dense)                 (None, 2)             8194        dropout_8[0][0]                  \n",
      "====================================================================================================\n",
      "Total params: 8194\n",
      "____________________________________________________________________________________________________\n"
     ]
    }
   ],
   "source": [
    "model.summary()"
   ]
  },
  {
   "cell_type": "markdown",
   "metadata": {},
   "source": [
    "### Adam, 0.1"
   ]
  },
  {
   "cell_type": "code",
   "execution_count": 20,
   "metadata": {
    "collapsed": false
   },
   "outputs": [
    {
     "name": "stdout",
     "output_type": "stream",
     "text": [
      "Epoch 1/1\n",
      "200/200 [==============================] - 6s - loss: 4.3847 - acc: 0.7100 - val_loss: 0.9671 - val_acc: 0.9400\n"
     ]
    }
   ],
   "source": [
    "vgg = Vgg16()\n",
    "model = vgg.model\n",
    "\n",
    "model.pop()\n",
    "for layer in model.layers:\n",
    "    layer.trainable = False\n",
    "    \n",
    "model.add(\n",
    "    Dense(trn_batches.nb_class, activation=\"softmax\")\n",
    ")\n",
    "model.compile(\n",
    "    optimizer=Adam(lr=0.1),\n",
    "    loss=\"categorical_crossentropy\",\n",
    "    metrics=[\"accuracy\"]\n",
    ")\n",
    "\n",
    "fit_epochs(model, trn_batches, val_batches, nb_epoch=1, run=\"lastlayer\")"
   ]
  },
  {
   "cell_type": "code",
   "execution_count": 21,
   "metadata": {
    "collapsed": false
   },
   "outputs": [
    {
     "name": "stdout",
     "output_type": "stream",
     "text": [
      "Found 50 images belonging to 2 classes.\n",
      "50/50 [==============================] - 1s     \n",
      "[[23  3]\n",
      " [ 0 24]]\n"
     ]
    },
    {
     "data": {
      "image/png": "[encoded data removed]",
      "text/plain": [
       "<matplotlib.figure.Figure at 0x7f880e3e8a50>"
      ]
     },
     "metadata": {},
     "output_type": "display_data"
    }
   ],
   "source": [
    "val_batches = get_batches(val_dir, shuffle=False, batch_size=1)\n",
    "preds = model.predict_classes(val_data, batch_size=bsz)\n",
    "cm = confusion_matrix(val_classes, preds)\n",
    "plot_confusion_matrix(cm, val_batches.class_indices)"
   ]
  },
  {
   "cell_type": "code",
   "execution_count": 22,
   "metadata": {
    "collapsed": false,
    "scrolled": true
   },
   "outputs": [
    {
     "name": "stdout",
     "output_type": "stream",
     "text": [
      "____________________________________________________________________________________________________\n",
      "Layer (type)                     Output Shape          Param #     Connected to                     \n",
      "====================================================================================================\n",
      "lambda_5 (Lambda)                (None, 3, 224, 224)   0           lambda_input_5[0][0]             \n",
      "____________________________________________________________________________________________________\n",
      "zeropadding2d_53 (ZeroPadding2D) (None, 3, 226, 226)   0           lambda_5[0][0]                   \n",
      "____________________________________________________________________________________________________\n",
      "convolution2d_53 (Convolution2D) (None, 64, 224, 224)  0           zeropadding2d_53[0][0]           \n",
      "____________________________________________________________________________________________________\n",
      "zeropadding2d_54 (ZeroPadding2D) (None, 64, 226, 226)  0           convolution2d_53[0][0]           \n",
      "____________________________________________________________________________________________________\n",
      "convolution2d_54 (Convolution2D) (None, 64, 224, 224)  0           zeropadding2d_54[0][0]           \n",
      "____________________________________________________________________________________________________\n",
      "maxpooling2d_21 (MaxPooling2D)   (None, 64, 112, 112)  0           convolution2d_54[0][0]           \n",
      "____________________________________________________________________________________________________\n",
      "zeropadding2d_55 (ZeroPadding2D) (None, 64, 114, 114)  0           maxpooling2d_21[0][0]            \n",
      "____________________________________________________________________________________________________\n",
      "convolution2d_55 (Convolution2D) (None, 128, 112, 112) 0           zeropadding2d_55[0][0]           \n",
      "____________________________________________________________________________________________________\n",
      "zeropadding2d_56 (ZeroPadding2D) (None, 128, 114, 114) 0           convolution2d_55[0][0]           \n",
      "____________________________________________________________________________________________________\n",
      "convolution2d_56 (Convolution2D) (None, 128, 112, 112) 0           zeropadding2d_56[0][0]           \n",
      "____________________________________________________________________________________________________\n",
      "maxpooling2d_22 (MaxPooling2D)   (None, 128, 56, 56)   0           convolution2d_56[0][0]           \n",
      "____________________________________________________________________________________________________\n",
      "zeropadding2d_57 (ZeroPadding2D) (None, 128, 58, 58)   0           maxpooling2d_22[0][0]            \n",
      "____________________________________________________________________________________________________\n",
      "convolution2d_57 (Convolution2D) (None, 256, 56, 56)   0           zeropadding2d_57[0][0]           \n",
      "____________________________________________________________________________________________________\n",
      "zeropadding2d_58 (ZeroPadding2D) (None, 256, 58, 58)   0           convolution2d_57[0][0]           \n",
      "____________________________________________________________________________________________________\n",
      "convolution2d_58 (Convolution2D) (None, 256, 56, 56)   0           zeropadding2d_58[0][0]           \n",
      "____________________________________________________________________________________________________\n",
      "zeropadding2d_59 (ZeroPadding2D) (None, 256, 58, 58)   0           convolution2d_58[0][0]           \n",
      "____________________________________________________________________________________________________\n",
      "convolution2d_59 (Convolution2D) (None, 256, 56, 56)   0           zeropadding2d_59[0][0]           \n",
      "____________________________________________________________________________________________________\n",
      "maxpooling2d_23 (MaxPooling2D)   (None, 256, 28, 28)   0           convolution2d_59[0][0]           \n",
      "____________________________________________________________________________________________________\n",
      "zeropadding2d_60 (ZeroPadding2D) (None, 256, 30, 30)   0           maxpooling2d_23[0][0]            \n",
      "____________________________________________________________________________________________________\n",
      "convolution2d_60 (Convolution2D) (None, 512, 28, 28)   0           zeropadding2d_60[0][0]           \n",
      "____________________________________________________________________________________________________\n",
      "zeropadding2d_61 (ZeroPadding2D) (None, 512, 30, 30)   0           convolution2d_60[0][0]           \n",
      "____________________________________________________________________________________________________\n",
      "convolution2d_61 (Convolution2D) (None, 512, 28, 28)   0           zeropadding2d_61[0][0]           \n",
      "____________________________________________________________________________________________________\n",
      "zeropadding2d_62 (ZeroPadding2D) (None, 512, 30, 30)   0           convolution2d_61[0][0]           \n",
      "____________________________________________________________________________________________________\n",
      "convolution2d_62 (Convolution2D) (None, 512, 28, 28)   0           zeropadding2d_62[0][0]           \n",
      "____________________________________________________________________________________________________\n",
      "maxpooling2d_24 (MaxPooling2D)   (None, 512, 14, 14)   0           convolution2d_62[0][0]           \n",
      "____________________________________________________________________________________________________\n",
      "zeropadding2d_63 (ZeroPadding2D) (None, 512, 16, 16)   0           maxpooling2d_24[0][0]            \n",
      "____________________________________________________________________________________________________\n",
      "convolution2d_63 (Convolution2D) (None, 512, 14, 14)   0           zeropadding2d_63[0][0]           \n",
      "____________________________________________________________________________________________________\n",
      "zeropadding2d_64 (ZeroPadding2D) (None, 512, 16, 16)   0           convolution2d_63[0][0]           \n",
      "____________________________________________________________________________________________________\n",
      "convolution2d_64 (Convolution2D) (None, 512, 14, 14)   0           zeropadding2d_64[0][0]           \n",
      "____________________________________________________________________________________________________\n",
      "zeropadding2d_65 (ZeroPadding2D) (None, 512, 16, 16)   0           convolution2d_64[0][0]           \n",
      "____________________________________________________________________________________________________\n",
      "convolution2d_65 (Convolution2D) (None, 512, 14, 14)   0           zeropadding2d_65[0][0]           \n",
      "____________________________________________________________________________________________________\n",
      "maxpooling2d_25 (MaxPooling2D)   (None, 512, 7, 7)     0           convolution2d_65[0][0]           \n",
      "____________________________________________________________________________________________________\n",
      "flatten_5 (Flatten)              (None, 25088)         0           maxpooling2d_25[0][0]            \n",
      "____________________________________________________________________________________________________\n",
      "dense_17 (Dense)                 (None, 4096)          0           flatten_5[0][0]                  \n",
      "____________________________________________________________________________________________________\n",
      "dropout_9 (Dropout)              (None, 4096)          0           dense_17[0][0]                   \n",
      "____________________________________________________________________________________________________\n",
      "dense_18 (Dense)                 (None, 4096)          0           dropout_9[0][0]                  \n",
      "____________________________________________________________________________________________________\n",
      "dropout_10 (Dropout)             (None, 4096)          0           dense_18[0][0]                   \n",
      "____________________________________________________________________________________________________\n",
      "dense_20 (Dense)                 (None, 2)             8194        dropout_10[0][0]                 \n",
      "====================================================================================================\n",
      "Total params: 8194\n",
      "____________________________________________________________________________________________________\n"
     ]
    }
   ],
   "source": [
    "model.summary()"
   ]
  },
  {
   "cell_type": "markdown",
   "metadata": {},
   "source": [
    "### Adam, 0.01"
   ]
  },
  {
   "cell_type": "code",
   "execution_count": 23,
   "metadata": {
    "collapsed": false
   },
   "outputs": [
    {
     "name": "stdout",
     "output_type": "stream",
     "text": [
      "Epoch 1/1\n",
      "200/200 [==============================] - 6s - loss: 1.4358 - acc: 0.8550 - val_loss: 0.9078 - val_acc: 0.9200\n"
     ]
    }
   ],
   "source": [
    "vgg = Vgg16()\n",
    "model = vgg.model\n",
    "\n",
    "model.pop()\n",
    "for layer in model.layers:\n",
    "    layer.trainable = False\n",
    "    \n",
    "model.add(\n",
    "    Dense(trn_batches.nb_class, activation=\"softmax\")\n",
    ")\n",
    "model.compile(\n",
    "    optimizer=Adam(lr=0.01),\n",
    "    loss=\"categorical_crossentropy\",\n",
    "    metrics=[\"accuracy\"]\n",
    ")\n",
    "\n",
    "fit_epochs(model, trn_batches, val_batches, nb_epoch=1, run=\"lastlayer\")"
   ]
  },
  {
   "cell_type": "code",
   "execution_count": 24,
   "metadata": {
    "collapsed": false
   },
   "outputs": [
    {
     "name": "stdout",
     "output_type": "stream",
     "text": [
      "Found 50 images belonging to 2 classes.\n",
      "50/50 [==============================] - 1s     \n",
      "[[22  4]\n",
      " [ 0 24]]\n"
     ]
    },
    {
     "data": {
      "image/png": "[encoded data removed]",
      "text/plain": [
       "<matplotlib.figure.Figure at 0x7f881c193a50>"
      ]
     },
     "metadata": {},
     "output_type": "display_data"
    }
   ],
   "source": [
    "val_batches = get_batches(val_dir, shuffle=False, batch_size=1)\n",
    "preds = model.predict_classes(val_data, batch_size=bsz)\n",
    "cm = confusion_matrix(val_classes, preds)\n",
    "plot_confusion_matrix(cm, val_batches.class_indices)"
   ]
  },
  {
   "cell_type": "code",
   "execution_count": 25,
   "metadata": {
    "collapsed": false,
    "scrolled": true
   },
   "outputs": [
    {
     "name": "stdout",
     "output_type": "stream",
     "text": [
      "____________________________________________________________________________________________________\n",
      "Layer (type)                     Output Shape          Param #     Connected to                     \n",
      "====================================================================================================\n",
      "lambda_6 (Lambda)                (None, 3, 224, 224)   0           lambda_input_6[0][0]             \n",
      "____________________________________________________________________________________________________\n",
      "zeropadding2d_66 (ZeroPadding2D) (None, 3, 226, 226)   0           lambda_6[0][0]                   \n",
      "____________________________________________________________________________________________________\n",
      "convolution2d_66 (Convolution2D) (None, 64, 224, 224)  0           zeropadding2d_66[0][0]           \n",
      "____________________________________________________________________________________________________\n",
      "zeropadding2d_67 (ZeroPadding2D) (None, 64, 226, 226)  0           convolution2d_66[0][0]           \n",
      "____________________________________________________________________________________________________\n",
      "convolution2d_67 (Convolution2D) (None, 64, 224, 224)  0           zeropadding2d_67[0][0]           \n",
      "____________________________________________________________________________________________________\n",
      "maxpooling2d_26 (MaxPooling2D)   (None, 64, 112, 112)  0           convolution2d_67[0][0]           \n",
      "____________________________________________________________________________________________________\n",
      "zeropadding2d_68 (ZeroPadding2D) (None, 64, 114, 114)  0           maxpooling2d_26[0][0]            \n",
      "____________________________________________________________________________________________________\n",
      "convolution2d_68 (Convolution2D) (None, 128, 112, 112) 0           zeropadding2d_68[0][0]           \n",
      "____________________________________________________________________________________________________\n",
      "zeropadding2d_69 (ZeroPadding2D) (None, 128, 114, 114) 0           convolution2d_68[0][0]           \n",
      "____________________________________________________________________________________________________\n",
      "convolution2d_69 (Convolution2D) (None, 128, 112, 112) 0           zeropadding2d_69[0][0]           \n",
      "____________________________________________________________________________________________________\n",
      "maxpooling2d_27 (MaxPooling2D)   (None, 128, 56, 56)   0           convolution2d_69[0][0]           \n",
      "____________________________________________________________________________________________________\n",
      "zeropadding2d_70 (ZeroPadding2D) (None, 128, 58, 58)   0           maxpooling2d_27[0][0]            \n",
      "____________________________________________________________________________________________________\n",
      "convolution2d_70 (Convolution2D) (None, 256, 56, 56)   0           zeropadding2d_70[0][0]           \n",
      "____________________________________________________________________________________________________\n",
      "zeropadding2d_71 (ZeroPadding2D) (None, 256, 58, 58)   0           convolution2d_70[0][0]           \n",
      "____________________________________________________________________________________________________\n",
      "convolution2d_71 (Convolution2D) (None, 256, 56, 56)   0           zeropadding2d_71[0][0]           \n",
      "____________________________________________________________________________________________________\n",
      "zeropadding2d_72 (ZeroPadding2D) (None, 256, 58, 58)   0           convolution2d_71[0][0]           \n",
      "____________________________________________________________________________________________________\n",
      "convolution2d_72 (Convolution2D) (None, 256, 56, 56)   0           zeropadding2d_72[0][0]           \n",
      "____________________________________________________________________________________________________\n",
      "maxpooling2d_28 (MaxPooling2D)   (None, 256, 28, 28)   0           convolution2d_72[0][0]           \n",
      "____________________________________________________________________________________________________\n",
      "zeropadding2d_73 (ZeroPadding2D) (None, 256, 30, 30)   0           maxpooling2d_28[0][0]            \n",
      "____________________________________________________________________________________________________\n",
      "convolution2d_73 (Convolution2D) (None, 512, 28, 28)   0           zeropadding2d_73[0][0]           \n",
      "____________________________________________________________________________________________________\n",
      "zeropadding2d_74 (ZeroPadding2D) (None, 512, 30, 30)   0           convolution2d_73[0][0]           \n",
      "____________________________________________________________________________________________________\n",
      "convolution2d_74 (Convolution2D) (None, 512, 28, 28)   0           zeropadding2d_74[0][0]           \n",
      "____________________________________________________________________________________________________\n",
      "zeropadding2d_75 (ZeroPadding2D) (None, 512, 30, 30)   0           convolution2d_74[0][0]           \n",
      "____________________________________________________________________________________________________\n",
      "convolution2d_75 (Convolution2D) (None, 512, 28, 28)   0           zeropadding2d_75[0][0]           \n",
      "____________________________________________________________________________________________________\n",
      "maxpooling2d_29 (MaxPooling2D)   (None, 512, 14, 14)   0           convolution2d_75[0][0]           \n",
      "____________________________________________________________________________________________________\n",
      "zeropadding2d_76 (ZeroPadding2D) (None, 512, 16, 16)   0           maxpooling2d_29[0][0]            \n",
      "____________________________________________________________________________________________________\n",
      "convolution2d_76 (Convolution2D) (None, 512, 14, 14)   0           zeropadding2d_76[0][0]           \n",
      "____________________________________________________________________________________________________\n",
      "zeropadding2d_77 (ZeroPadding2D) (None, 512, 16, 16)   0           convolution2d_76[0][0]           \n",
      "____________________________________________________________________________________________________\n",
      "convolution2d_77 (Convolution2D) (None, 512, 14, 14)   0           zeropadding2d_77[0][0]           \n",
      "____________________________________________________________________________________________________\n",
      "zeropadding2d_78 (ZeroPadding2D) (None, 512, 16, 16)   0           convolution2d_77[0][0]           \n",
      "____________________________________________________________________________________________________\n",
      "convolution2d_78 (Convolution2D) (None, 512, 14, 14)   0           zeropadding2d_78[0][0]           \n",
      "____________________________________________________________________________________________________\n",
      "maxpooling2d_30 (MaxPooling2D)   (None, 512, 7, 7)     0           convolution2d_78[0][0]           \n",
      "____________________________________________________________________________________________________\n",
      "flatten_6 (Flatten)              (None, 25088)         0           maxpooling2d_30[0][0]            \n",
      "____________________________________________________________________________________________________\n",
      "dense_21 (Dense)                 (None, 4096)          0           flatten_6[0][0]                  \n",
      "____________________________________________________________________________________________________\n",
      "dropout_11 (Dropout)             (None, 4096)          0           dense_21[0][0]                   \n",
      "____________________________________________________________________________________________________\n",
      "dense_22 (Dense)                 (None, 4096)          0           dropout_11[0][0]                 \n",
      "____________________________________________________________________________________________________\n",
      "dropout_12 (Dropout)             (None, 4096)          0           dense_22[0][0]                   \n",
      "____________________________________________________________________________________________________\n",
      "dense_24 (Dense)                 (None, 2)             8194        dropout_12[0][0]                 \n",
      "====================================================================================================\n",
      "Total params: 8194\n",
      "____________________________________________________________________________________________________\n"
     ]
    }
   ],
   "source": [
    "model.summary()"
   ]
  },
  {
   "cell_type": "markdown",
   "metadata": {},
   "source": [
    "### Adam, 0.001"
   ]
  },
  {
   "cell_type": "code",
   "execution_count": 26,
   "metadata": {
    "collapsed": false
   },
   "outputs": [
    {
     "name": "stdout",
     "output_type": "stream",
     "text": [
      "Epoch 1/1\n",
      "200/200 [==============================] - 6s - loss: 0.5954 - acc: 0.8200 - val_loss: 0.1839 - val_acc: 0.9400\n"
     ]
    }
   ],
   "source": [
    "vgg = Vgg16()\n",
    "model = vgg.model\n",
    "\n",
    "model.pop()\n",
    "for layer in model.layers:\n",
    "    layer.trainable = False\n",
    "    \n",
    "model.add(\n",
    "    Dense(trn_batches.nb_class, activation=\"softmax\")\n",
    ")\n",
    "model.compile(\n",
    "    optimizer=Adam(lr=0.001),\n",
    "    loss=\"categorical_crossentropy\",\n",
    "    metrics=[\"accuracy\"]\n",
    ")\n",
    "\n",
    "fit_epochs(model, trn_batches, val_batches, nb_epoch=1, run=\"lastlayer\")"
   ]
  },
  {
   "cell_type": "code",
   "execution_count": 27,
   "metadata": {
    "collapsed": false,
    "scrolled": false
   },
   "outputs": [
    {
     "name": "stdout",
     "output_type": "stream",
     "text": [
      "Found 50 images belonging to 2 classes.\n",
      "50/50 [==============================] - 1s     \n",
      "[[24  2]\n",
      " [ 1 23]]\n"
     ]
    },
    {
     "data": {
      "image/png": "[encoded data removed]",
      "text/plain": [
       "<matplotlib.figure.Figure at 0x7f880df8b950>"
      ]
     },
     "metadata": {},
     "output_type": "display_data"
    }
   ],
   "source": [
    "val_batches = get_batches(val_dir, shuffle=False, batch_size=1)\n",
    "preds = model.predict_classes(val_data, batch_size=bsz)\n",
    "cm = confusion_matrix(val_classes, preds)\n",
    "plot_confusion_matrix(cm, val_batches.class_indices)"
   ]
  },
  {
   "cell_type": "code",
   "execution_count": 28,
   "metadata": {
    "collapsed": false,
    "scrolled": true
   },
   "outputs": [
    {
     "name": "stdout",
     "output_type": "stream",
     "text": [
      "____________________________________________________________________________________________________\n",
      "Layer (type)                     Output Shape          Param #     Connected to                     \n",
      "====================================================================================================\n",
      "lambda_7 (Lambda)                (None, 3, 224, 224)   0           lambda_input_7[0][0]             \n",
      "____________________________________________________________________________________________________\n",
      "zeropadding2d_79 (ZeroPadding2D) (None, 3, 226, 226)   0           lambda_7[0][0]                   \n",
      "____________________________________________________________________________________________________\n",
      "convolution2d_79 (Convolution2D) (None, 64, 224, 224)  0           zeropadding2d_79[0][0]           \n",
      "____________________________________________________________________________________________________\n",
      "zeropadding2d_80 (ZeroPadding2D) (None, 64, 226, 226)  0           convolution2d_79[0][0]           \n",
      "____________________________________________________________________________________________________\n",
      "convolution2d_80 (Convolution2D) (None, 64, 224, 224)  0           zeropadding2d_80[0][0]           \n",
      "____________________________________________________________________________________________________\n",
      "maxpooling2d_31 (MaxPooling2D)   (None, 64, 112, 112)  0           convolution2d_80[0][0]           \n",
      "____________________________________________________________________________________________________\n",
      "zeropadding2d_81 (ZeroPadding2D) (None, 64, 114, 114)  0           maxpooling2d_31[0][0]            \n",
      "____________________________________________________________________________________________________\n",
      "convolution2d_81 (Convolution2D) (None, 128, 112, 112) 0           zeropadding2d_81[0][0]           \n",
      "____________________________________________________________________________________________________\n",
      "zeropadding2d_82 (ZeroPadding2D) (None, 128, 114, 114) 0           convolution2d_81[0][0]           \n",
      "____________________________________________________________________________________________________\n",
      "convolution2d_82 (Convolution2D) (None, 128, 112, 112) 0           zeropadding2d_82[0][0]           \n",
      "____________________________________________________________________________________________________\n",
      "maxpooling2d_32 (MaxPooling2D)   (None, 128, 56, 56)   0           convolution2d_82[0][0]           \n",
      "____________________________________________________________________________________________________\n",
      "zeropadding2d_83 (ZeroPadding2D) (None, 128, 58, 58)   0           maxpooling2d_32[0][0]            \n",
      "____________________________________________________________________________________________________\n",
      "convolution2d_83 (Convolution2D) (None, 256, 56, 56)   0           zeropadding2d_83[0][0]           \n",
      "____________________________________________________________________________________________________\n",
      "zeropadding2d_84 (ZeroPadding2D) (None, 256, 58, 58)   0           convolution2d_83[0][0]           \n",
      "____________________________________________________________________________________________________\n",
      "convolution2d_84 (Convolution2D) (None, 256, 56, 56)   0           zeropadding2d_84[0][0]           \n",
      "____________________________________________________________________________________________________\n",
      "zeropadding2d_85 (ZeroPadding2D) (None, 256, 58, 58)   0           convolution2d_84[0][0]           \n",
      "____________________________________________________________________________________________________\n",
      "convolution2d_85 (Convolution2D) (None, 256, 56, 56)   0           zeropadding2d_85[0][0]           \n",
      "____________________________________________________________________________________________________\n",
      "maxpooling2d_33 (MaxPooling2D)   (None, 256, 28, 28)   0           convolution2d_85[0][0]           \n",
      "____________________________________________________________________________________________________\n",
      "zeropadding2d_86 (ZeroPadding2D) (None, 256, 30, 30)   0           maxpooling2d_33[0][0]            \n",
      "____________________________________________________________________________________________________\n",
      "convolution2d_86 (Convolution2D) (None, 512, 28, 28)   0           zeropadding2d_86[0][0]           \n",
      "____________________________________________________________________________________________________\n",
      "zeropadding2d_87 (ZeroPadding2D) (None, 512, 30, 30)   0           convolution2d_86[0][0]           \n",
      "____________________________________________________________________________________________________\n",
      "convolution2d_87 (Convolution2D) (None, 512, 28, 28)   0           zeropadding2d_87[0][0]           \n",
      "____________________________________________________________________________________________________\n",
      "zeropadding2d_88 (ZeroPadding2D) (None, 512, 30, 30)   0           convolution2d_87[0][0]           \n",
      "____________________________________________________________________________________________________\n",
      "convolution2d_88 (Convolution2D) (None, 512, 28, 28)   0           zeropadding2d_88[0][0]           \n",
      "____________________________________________________________________________________________________\n",
      "maxpooling2d_34 (MaxPooling2D)   (None, 512, 14, 14)   0           convolution2d_88[0][0]           \n",
      "____________________________________________________________________________________________________\n",
      "zeropadding2d_89 (ZeroPadding2D) (None, 512, 16, 16)   0           maxpooling2d_34[0][0]            \n",
      "____________________________________________________________________________________________________\n",
      "convolution2d_89 (Convolution2D) (None, 512, 14, 14)   0           zeropadding2d_89[0][0]           \n",
      "____________________________________________________________________________________________________\n",
      "zeropadding2d_90 (ZeroPadding2D) (None, 512, 16, 16)   0           convolution2d_89[0][0]           \n",
      "____________________________________________________________________________________________________\n",
      "convolution2d_90 (Convolution2D) (None, 512, 14, 14)   0           zeropadding2d_90[0][0]           \n",
      "____________________________________________________________________________________________________\n",
      "zeropadding2d_91 (ZeroPadding2D) (None, 512, 16, 16)   0           convolution2d_90[0][0]           \n",
      "____________________________________________________________________________________________________\n",
      "convolution2d_91 (Convolution2D) (None, 512, 14, 14)   0           zeropadding2d_91[0][0]           \n",
      "____________________________________________________________________________________________________\n",
      "maxpooling2d_35 (MaxPooling2D)   (None, 512, 7, 7)     0           convolution2d_91[0][0]           \n",
      "____________________________________________________________________________________________________\n",
      "flatten_7 (Flatten)              (None, 25088)         0           maxpooling2d_35[0][0]            \n",
      "____________________________________________________________________________________________________\n",
      "dense_25 (Dense)                 (None, 4096)          0           flatten_7[0][0]                  \n",
      "____________________________________________________________________________________________________\n",
      "dropout_13 (Dropout)             (None, 4096)          0           dense_25[0][0]                   \n",
      "____________________________________________________________________________________________________\n",
      "dense_26 (Dense)                 (None, 4096)          0           dropout_13[0][0]                 \n",
      "____________________________________________________________________________________________________\n",
      "dropout_14 (Dropout)             (None, 4096)          0           dense_26[0][0]                   \n",
      "____________________________________________________________________________________________________\n",
      "dense_28 (Dense)                 (None, 2)             8194        dropout_14[0][0]                 \n",
      "====================================================================================================\n",
      "Total params: 8194\n",
      "____________________________________________________________________________________________________\n"
     ]
    }
   ],
   "source": [
    "model.summary()"
   ]
  }
 ],
 "metadata": {
  "anaconda-cloud": {},
  "kernelspec": {
   "display_name": "Python [conda root]",
   "language": "python",
   "name": "conda-root-py"
  },
  "language_info": {
   "codemirror_mode": {
    "name": "ipython",
    "version": 2
   },
   "file_extension": ".py",
   "mimetype": "text/x-python",
   "name": "python",
   "nbconvert_exporter": "python",
   "pygments_lexer": "ipython2",
   "version": "2.7.12"
  }
 },
 "nbformat": 4,
 "nbformat_minor": 1
}
